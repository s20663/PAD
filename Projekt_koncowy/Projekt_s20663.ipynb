{
  "nbformat": 4,
  "nbformat_minor": 0,
  "metadata": {
    "colab": {
      "provenance": []
    },
    "kernelspec": {
      "name": "python3",
      "display_name": "Python 3"
    },
    "language_info": {
      "name": "python"
    }
  },
  "cells": [
    {
      "cell_type": "markdown",
      "source": [
        "IMPORT"
      ],
      "metadata": {
        "id": "8Zjc1tEyFxhx"
      }
    },
    {
      "cell_type": "code",
      "source": [
        "!pip install dash\n"
      ],
      "metadata": {
        "colab": {
          "base_uri": "https://localhost:8080/"
        },
        "id": "cOaKhM2pGffL",
        "outputId": "5f6d008c-2709-49e9-8b85-e31ace0f16e5"
      },
      "execution_count": 2,
      "outputs": [
        {
          "output_type": "stream",
          "name": "stdout",
          "text": [
            "Collecting dash\n",
            "  Downloading dash-2.14.2-py3-none-any.whl (10.2 MB)\n",
            "\u001b[2K     \u001b[90m━━━━━━━━━━━━━━━━━━━━━━━━━━━━━━━━━━━━━━━━\u001b[0m \u001b[32m10.2/10.2 MB\u001b[0m \u001b[31m24.6 MB/s\u001b[0m eta \u001b[36m0:00:00\u001b[0m\n",
            "\u001b[?25hRequirement already satisfied: Flask<3.1,>=1.0.4 in /usr/local/lib/python3.10/dist-packages (from dash) (2.2.5)\n",
            "Requirement already satisfied: Werkzeug<3.1 in /usr/local/lib/python3.10/dist-packages (from dash) (3.0.1)\n",
            "Requirement already satisfied: plotly>=5.0.0 in /usr/local/lib/python3.10/dist-packages (from dash) (5.15.0)\n",
            "Collecting dash-html-components==2.0.0 (from dash)\n",
            "  Downloading dash_html_components-2.0.0-py3-none-any.whl (4.1 kB)\n",
            "Collecting dash-core-components==2.0.0 (from dash)\n",
            "  Downloading dash_core_components-2.0.0-py3-none-any.whl (3.8 kB)\n",
            "Collecting dash-table==5.0.0 (from dash)\n",
            "  Downloading dash_table-5.0.0-py3-none-any.whl (3.9 kB)\n",
            "Requirement already satisfied: typing-extensions>=4.1.1 in /usr/local/lib/python3.10/dist-packages (from dash) (4.5.0)\n",
            "Requirement already satisfied: requests in /usr/local/lib/python3.10/dist-packages (from dash) (2.31.0)\n",
            "Collecting retrying (from dash)\n",
            "  Downloading retrying-1.3.4-py3-none-any.whl (11 kB)\n",
            "Collecting ansi2html (from dash)\n",
            "  Downloading ansi2html-1.9.1-py3-none-any.whl (17 kB)\n",
            "Requirement already satisfied: nest-asyncio in /usr/local/lib/python3.10/dist-packages (from dash) (1.5.8)\n",
            "Requirement already satisfied: setuptools in /usr/local/lib/python3.10/dist-packages (from dash) (67.7.2)\n",
            "Requirement already satisfied: importlib-metadata in /usr/local/lib/python3.10/dist-packages (from dash) (7.0.1)\n",
            "Requirement already satisfied: Jinja2>=3.0 in /usr/local/lib/python3.10/dist-packages (from Flask<3.1,>=1.0.4->dash) (3.1.3)\n",
            "Requirement already satisfied: itsdangerous>=2.0 in /usr/local/lib/python3.10/dist-packages (from Flask<3.1,>=1.0.4->dash) (2.1.2)\n",
            "Requirement already satisfied: click>=8.0 in /usr/local/lib/python3.10/dist-packages (from Flask<3.1,>=1.0.4->dash) (8.1.7)\n",
            "Requirement already satisfied: tenacity>=6.2.0 in /usr/local/lib/python3.10/dist-packages (from plotly>=5.0.0->dash) (8.2.3)\n",
            "Requirement already satisfied: packaging in /usr/local/lib/python3.10/dist-packages (from plotly>=5.0.0->dash) (23.2)\n",
            "Requirement already satisfied: MarkupSafe>=2.1.1 in /usr/local/lib/python3.10/dist-packages (from Werkzeug<3.1->dash) (2.1.3)\n",
            "Requirement already satisfied: zipp>=0.5 in /usr/local/lib/python3.10/dist-packages (from importlib-metadata->dash) (3.17.0)\n",
            "Requirement already satisfied: charset-normalizer<4,>=2 in /usr/local/lib/python3.10/dist-packages (from requests->dash) (3.3.2)\n",
            "Requirement already satisfied: idna<4,>=2.5 in /usr/local/lib/python3.10/dist-packages (from requests->dash) (3.6)\n",
            "Requirement already satisfied: urllib3<3,>=1.21.1 in /usr/local/lib/python3.10/dist-packages (from requests->dash) (2.0.7)\n",
            "Requirement already satisfied: certifi>=2017.4.17 in /usr/local/lib/python3.10/dist-packages (from requests->dash) (2023.11.17)\n",
            "Requirement already satisfied: six>=1.7.0 in /usr/local/lib/python3.10/dist-packages (from retrying->dash) (1.16.0)\n",
            "Installing collected packages: dash-table, dash-html-components, dash-core-components, retrying, ansi2html, dash\n",
            "Successfully installed ansi2html-1.9.1 dash-2.14.2 dash-core-components-2.0.0 dash-html-components-2.0.0 dash-table-5.0.0 retrying-1.3.4\n"
          ]
        }
      ]
    },
    {
      "cell_type": "code",
      "execution_count": 3,
      "metadata": {
        "id": "_eTDelTPFoTS"
      },
      "outputs": [],
      "source": [
        "import dash\n",
        "from dash import dcc, html\n",
        "from dash.dependencies import Input, Output\n",
        "import pandas as pd\n",
        "import plotly.express as px\n",
        "from sklearn.linear_model import LinearRegression\n",
        "from sklearn.preprocessing import LabelEncoder\n",
        "import numpy as np\n",
        "from scipy import stats\n",
        "import statsmodels.api as sm"
      ]
    },
    {
      "cell_type": "markdown",
      "source": [
        "KOD"
      ],
      "metadata": {
        "id": "8mPae9T4F1Mi"
      }
    },
    {
      "cell_type": "code",
      "source": [
        "\n",
        "\n",
        "# Wczytanie danych\n",
        "data = pd.read_csv('messy_data.csv')\n",
        "\n",
        "# Czyszczenie danych\n",
        "data.replace('', np.nan, inplace=True)\n",
        "data.columns = data.columns.str.strip()\n",
        "kolumny_kategoryczne = ['clarity', 'color', 'cut']\n",
        "for col in kolumny_kategoryczne:\n",
        "    data[col] = data[col].astype('category')\n",
        "data.dropna(inplace=True)\n",
        "\n",
        "enkodery_labeli = {}\n",
        "for col in kolumny_kategoryczne:\n",
        "    le = LabelEncoder()\n",
        "    data[col] = le.fit_transform(data[col])\n",
        "    enkodery_labeli[col] = le\n",
        "\n",
        "kolumny_numeryczne = ['carat', 'x dimension', 'y dimension', 'z dimension', 'depth', 'table']\n",
        "for col in kolumny_numeryczne:\n",
        "    data[col] = pd.to_numeric(data[col], errors='coerce')\n",
        "\n",
        "\n",
        "\n",
        "data = data.apply(pd.to_numeric, errors='coerce')\n",
        "data.dropna(subset=kolumny_numeryczne, inplace=True)\n",
        "\n",
        "# 1. Usunięcie duplikatów\n",
        "data.drop_duplicates(inplace=True)\n",
        "\n",
        "# 2. Analiza wartości odstających (przykład z wynikami Z)\n",
        "z_scores = np.abs(stats.zscore(data[kolumny_numeryczne]))\n",
        "outliers = (z_scores > 3).any(axis=1)\n",
        "data = data[~outliers]\n",
        "\n",
        "# 3. Analiza spójności i inne etapy czyszczenia danych\n",
        "\n",
        "# Analiza zakresu wartości w kolumnach numerycznych\n",
        "for col in kolumny_numeryczne:\n",
        "    print(f\"Zakres wartości w kolumnie {col}: {data[col].min()} - {data[col].max()}\")\n",
        "\n",
        "# Usunięcie dokładnych duplikatów (poza indeksem)\n",
        "data.drop_duplicates(subset=data.columns.difference(['id']), keep='first', inplace=True)\n",
        "\n",
        "# # Dodatkowe etapy analizy spójności\n",
        "# korelacja = data[kolumny_numeryczne].corr()\n",
        "# sns.heatmap(korelacja, annot=True, cmap='coolwarm', linewidths=0.5)\n",
        "# plt.title('Macierz korelacji między zmiennymi numerycznymi')\n",
        "# plt.show()\n",
        "#\n",
        "# # Analiza występowania outlierów\n",
        "# for col in kolumny_numeryczne:\n",
        "#     sns.boxplot(x=data[col])\n",
        "#     plt.title(f'Boxplot kolumny {col}')\n",
        "#     plt.show()\n",
        "\n",
        "# 4. Model regresji (Eliminacja wsteczna)\n",
        "\n",
        "X = data.drop('price', axis=1)\n",
        "y = data['price']\n",
        "\n",
        "\n",
        "def eliminacja_wsteczna(X, y, p_value_limit=0.05):\n",
        "    cols = list(X.columns)\n",
        "    while True:\n",
        "        model = sm.OLS(y, X).fit()\n",
        "        p_values = model.pvalues\n",
        "        max_p_value = p_values.max()\n",
        "        if max_p_value > p_value_limit:\n",
        "            excluded_feature = p_values.idxmax()\n",
        "            cols.remove(excluded_feature)\n",
        "            X = X[cols]\n",
        "        else:\n",
        "            break\n",
        "    return cols\n",
        "\n",
        "\n",
        "wybrane_zmienne = eliminacja_wsteczna(X, y)\n",
        "X = X[wybrane_zmienne]\n",
        "\n",
        "# 5. Dashboard\n",
        "app = dash.Dash(__name__)\n",
        "\n",
        "app.layout = html.Div([\n",
        "    html.H1(\"Dashboard do prognozowania ceny diamentów\"),\n",
        "\n",
        "    html.Label(\"Wybierz zmienną:\"),\n",
        "    dcc.Dropdown(\n",
        "        id='zmienna-wyboru',\n",
        "        options=[\n",
        "            {'label': col, 'value': col} for col in set(kolumny_numeryczne + kolumny_kategoryczne + wybrane_zmienne)\n",
        "        ],\n",
        "        value=kolumny_numeryczne[0]  # Możesz dostosować wartość początkową\n",
        "    ),\n",
        "\n",
        "    dcc.Graph(id='wykres-histogramu'),\n",
        "    dcc.Graph(id='wykres-skrzynkowy'),\n",
        "    dcc.Graph(id='wykres-regresji')\n",
        "])\n",
        "\n",
        "# Funkcja pomocnicza do rysowania wykresu regresji\n",
        "def rysuj_wykres_regresji(wybrana_zmienna):\n",
        "    model = LinearRegression()\n",
        "    model.fit(X[[wybrana_zmienna]], y)\n",
        "    y_pred = model.predict(X[[wybrana_zmienna]])\n",
        "\n",
        "    wykres = px.scatter(x=X[wybrana_zmienna], y=y, title=f'Wykres regresji: Cena vs {wybrana_zmienna}')\n",
        "    wykres.add_trace(px.line(x=X[wybrana_zmienna], y=y_pred).data[0])\n",
        "\n",
        "    return wykres\n",
        "\n",
        "# Funkcje zwrotne do aktualizacji wszystkich wykresów na podstawie jednego pola wyboru\n",
        "@app.callback(\n",
        "    Output('wykres-histogramu', 'figure'),\n",
        "    Output('wykres-skrzynkowy', 'figure'),\n",
        "    Output('wykres-regresji', 'figure'),\n",
        "    Input('zmienna-wyboru', 'value')\n",
        ")\n",
        "def aktualizuj_wykresy(wybrana_zmienna):\n",
        "    if wybrana_zmienna in kolumny_numeryczne:\n",
        "        wykres_histogramu = px.histogram(data, x=wybrana_zmienna, marginal=\"box\", title=f'Wykres histogramu: {wybrana_zmienna}')\n",
        "        wykres_skrzynkowy = px.box(data, x=wybrana_zmienna, y='price', title=f'Wykres skrzynkowy: Cena vs {wybrana_zmienna}')\n",
        "        wykres_regresji = rysuj_wykres_regresji(wybrana_zmienna)\n",
        "    elif wybrana_zmienna in kolumny_kategoryczne:\n",
        "        wykres_histogramu = px.histogram(data, x=wybrana_zmienna, title=f'Wykres histogramu: {wybrana_zmienna}')\n",
        "        wykres_skrzynkowy = px.box(data, x=wybrana_zmienna, y='price', title=f'Wykres skrzynkowy: Cena vs {wybrana_zmienna}')\n",
        "        wykres_regresji = px.scatter()\n",
        "    elif wybrana_zmienna in wybrane_zmienne:\n",
        "        wykres_histogramu = px.histogram(data, x=wybrana_zmienna, marginal=\"box\", title=f'Wykres histogramu: {wybrana_zmienna}')\n",
        "        wykres_skrzynkowy = px.scatter(data, x=wybrana_zmienna, y='price', title=f'Wykres skrzynkowy: Cena vs {wybrana_zmienna}')\n",
        "        wykres_regresji = rysuj_wykres_regresji(wybrana_zmienna)\n",
        "    else:\n",
        "        wykres_histogramu = px.histogram()\n",
        "        wykres_skrzynkowy = px.scatter()\n",
        "        wykres_regresji = px.scatter()\n",
        "\n",
        "    return wykres_histogramu, wykres_skrzynkowy, wykres_regresji\n",
        "\n",
        "# Uruchomienie aplikacji\n",
        "if __name__ == '__main__':\n",
        "    app.run_server(debug=True)\n"
      ],
      "metadata": {
        "colab": {
          "base_uri": "https://localhost:8080/",
          "height": 776
        },
        "id": "hYXDPBPXFxLO",
        "outputId": "f152942d-4593-4d8a-f63f-5ea3cd5ff458"
      },
      "execution_count": 4,
      "outputs": [
        {
          "output_type": "stream",
          "name": "stdout",
          "text": [
            "Zakres wartości w kolumnie carat: 0.45 - 1.2\n",
            "Zakres wartości w kolumnie x dimension: 4.8 - 6.9\n",
            "Zakres wartości w kolumnie y dimension: 4.82 - 6.88\n",
            "Zakres wartości w kolumnie z dimension: 3.01 - 4.27\n",
            "Zakres wartości w kolumnie depth: 62.1 - 62.7\n",
            "Zakres wartości w kolumnie table: 56.0 - 59.0\n"
          ]
        },
        {
          "output_type": "display_data",
          "data": {
            "text/plain": [
              "<IPython.core.display.Javascript object>"
            ],
            "application/javascript": [
              "(async (port, path, width, height, cache, element) => {\n",
              "    if (!google.colab.kernel.accessAllowed && !cache) {\n",
              "      return;\n",
              "    }\n",
              "    element.appendChild(document.createTextNode(''));\n",
              "    const url = await google.colab.kernel.proxyPort(port, {cache});\n",
              "    const iframe = document.createElement('iframe');\n",
              "    iframe.src = new URL(path, url).toString();\n",
              "    iframe.height = height;\n",
              "    iframe.width = width;\n",
              "    iframe.style.border = 0;\n",
              "    iframe.allow = [\n",
              "        'accelerometer',\n",
              "        'autoplay',\n",
              "        'camera',\n",
              "        'clipboard-read',\n",
              "        'clipboard-write',\n",
              "        'gyroscope',\n",
              "        'magnetometer',\n",
              "        'microphone',\n",
              "        'serial',\n",
              "        'usb',\n",
              "        'xr-spatial-tracking',\n",
              "    ].join('; ');\n",
              "    element.appendChild(iframe);\n",
              "  })(8050, \"/\", \"100%\", 650, false, window.element)"
            ]
          },
          "metadata": {}
        }
      ]
    }
  ]
}