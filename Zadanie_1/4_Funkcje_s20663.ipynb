{
 "cells": [
  {
   "cell_type": "markdown",
   "metadata": {
    "id": "ShoPtJMilOPK"
   },
   "source": [
    "# Funkcje"
   ]
  },
  {
   "cell_type": "markdown",
   "metadata": {
    "id": "m1gs7jOBlOPQ"
   },
   "source": [
    "## Definiowanie Fukncji"
   ]
  },
  {
   "cell_type": "markdown",
   "metadata": {
    "id": "iiozR6FklOPR"
   },
   "source": [
    "- Widzieliśmy już pętle for jako sposób na przestrzeganie zasady DRY (Don't Repeat Yourself).\n",
    "- Następnym ważnym krokiem są funkcje.\n",
    "- Funkcje umożliwiają zaprogramowanie bloku kodu, który działa tylko po wywołaniu.\n",
    "- Oznacza to, że możemy uniknąć konieczności ponownego definiowania tych samych operacji, gdy wykonujemy je wielokrotnie.\n",
    "<br><br>\n",
    "- Funkcja przyjmuje parametry i zwraca dane wyjściowe.\n",
    "- Wartość przekazana jako parametr nazywana jest argumentem.\n",
    "- Funkcja powiązana z obiektem nazywana jest metodą.\n",
    "- Instancja funkcji nazywana jest wywołaniem funkcji.\n",
    "- Podstawowa składnia funkcji jest następująca:"
   ]
  },
  {
   "cell_type": "code",
   "execution_count": null,
   "metadata": {
    "id": "4qbuqcDElOPS"
   },
   "outputs": [],
   "source": [
    "# function definition\n",
    "def function_name (param1, param2 = 1):\n",
    "    '''\n",
    "    DOCSTRING: explains function\n",
    "    INPUT: Name (str)\n",
    "    OUTPUT: Hello Name (str)\n",
    "    '''\n",
    "    # add code to run\n",
    "    return(\"Hello \" + param1)"
   ]
  },
  {
   "cell_type": "code",
   "execution_count": null,
   "metadata": {
    "id": "v2BVSrnblOPU"
   },
   "outputs": [],
   "source": [
    "# function call\n",
    "function_name(\"Zain\")"
   ]
  },
  {
   "cell_type": "code",
   "execution_count": null,
   "metadata": {
    "id": "_hGQ6dC3lOPU"
   },
   "outputs": [],
   "source": [
    "function_name"
   ]
  },
  {
   "cell_type": "markdown",
   "metadata": {
    "id": "pbOLHrOllOPU"
   },
   "source": [
    "- Słowo kluczowe __def__ pokazuje pythona, którego zamierzasz zdefiniować.\n",
    "- __Nazwa funkcji__ jest następna, nazwij wszystkie małe litery, oddzielone podkreśleniami, nie używaj wbudowanych słów kluczowych: zobacz PEP8 po szczegóły.\n",
    "- __Parametry__ zdefiniowane w nawiasach.\n",
    "- __Argumenty domyślne__ to argumenty, które mają wartość domyślną do przywrócenia, jeśli nie określono innej wartości. W tym przypadku param2 = 1 oznacza, że ​​param2 będzie wynosić 1, chyba że zostanie określone jako coś innego w wywołaniu funkcji.\n",
    "- __Dwukropek__ oznacza koniec linii definicji, następny wiersz będzie wcięty.\n",
    "- __Docstrings__ wyjaśnij, co robi funkcja: przeczytaj PEP257 lub google __*'python docstrings'*__, aby uzyskać wskazówki.\n",
    "- https://www.python.org/dev/peps/pep-0257/\n",
    "- Słowo kluczowe __return__ wskazuje wyjście funkcji.\n",
    "<br><br>\n",
    "- Wykonując wywołanie funkcji, piszemy nazwę funkcji, a po niej nawiasy zawierające argumenty do przekazania.\n",
    "- __POWOLNY BŁĄD: jeśli wywołasz funkcję bez nawiasów, nie będzie działać!!!__\n",
    "- Po prostu pokaże informacje o funkcji, w tym moduł, do którego należy, jej nazwę i parametry, które przyjmuje."
   ]
  },
  {
   "cell_type": "markdown",
   "metadata": {
    "id": "udKeWHwolOPV"
   },
   "source": [
    "## help()"
   ]
  },
  {
   "cell_type": "markdown",
   "metadata": {
    "id": "qveH4s5NlOPV"
   },
   "source": [
    "- Możemy użyć funkcji help(), aby znaleźć dokumentację, jeśli nie wiemy, co robi funkcja.\n",
    "- Lub naciśnij Shift + Tab.\n",
    "- Aby uzyskać bardziej szczegółową dokumentację, lepiej znaleźć i wykorzystać pełną dokumentację funkcji (google it!)."
   ]
  },
  {
   "cell_type": "code",
   "execution_count": null,
   "metadata": {
    "id": "euJMQKUXlOPV"
   },
   "outputs": [],
   "source": [
    "help(function_name)"
   ]
  },
  {
   "cell_type": "code",
   "execution_count": null,
   "metadata": {
    "id": "dGIQNmralOPW"
   },
   "outputs": [],
   "source": [
    "help(print)"
   ]
  },
  {
   "cell_type": "markdown",
   "metadata": {
    "id": "kphiFmMUlOPW"
   },
   "source": [
    "## Zakres zmiennej"
   ]
  },
  {
   "cell_type": "markdown",
   "metadata": {
    "id": "at3YZC07lOPW"
   },
   "source": [
    "- Zakres zmiennej odnosi się do części programu, które mogą odwoływać się do zmiennej.\n",
    "- Istnieją 2 rodzaje zasięgu: lokalny i globalny.\n",
    "— Do zmiennej zdefiniowanej wewnątrz funkcji można się odwoływać tylko wewnątrz tej funkcji: zakres lokalny.\n",
    "— Do zmiennej zdefiniowanej poza funkcją (w ogólnym skrypcie) można się odwoływać wewnątrz funkcji, ale nie można jej modyfikować wewnątrz funkcji (UnboundLocalError).\n",
    "- Aby zmienić go w funkcji, należy go ponownie zdefiniować w funkcji."
   ]
  },
  {
   "cell_type": "code",
   "execution_count": null,
   "metadata": {
    "colab": {
     "base_uri": "https://localhost:8080/",
     "height": 345
    },
    "id": "Ka1VHskDlOPW",
    "outputId": "24a9c360-5b17-4a11-a66e-531e1f6c354d"
   },
   "outputs": [
    {
     "output_type": "error",
     "ename": "UnboundLocalError",
     "evalue": "ignored",
     "traceback": [
      "\u001B[0;31m---------------------------------------------------------------------------\u001B[0m",
      "\u001B[0;31mUnboundLocalError\u001B[0m                         Traceback (most recent call last)",
      "\u001B[0;32m<ipython-input-24-8866ef3bde14>\u001B[0m in \u001B[0;36m<cell line: 6>\u001B[0;34m()\u001B[0m\n\u001B[1;32m      4\u001B[0m     \u001B[0mcounter\u001B[0m \u001B[0;34m+=\u001B[0m \u001B[0;36m12\u001B[0m \u001B[0;31m#add 12 to counter\u001B[0m\u001B[0;34m\u001B[0m\u001B[0;34m\u001B[0m\u001B[0m\n\u001B[1;32m      5\u001B[0m \u001B[0;34m\u001B[0m\u001B[0m\n\u001B[0;32m----> 6\u001B[0;31m \u001B[0madd_to_counter\u001B[0m\u001B[0;34m(\u001B[0m\u001B[0;34m)\u001B[0m\u001B[0;34m\u001B[0m\u001B[0;34m\u001B[0m\u001B[0m\n\u001B[0m",
      "\u001B[0;32m<ipython-input-24-8866ef3bde14>\u001B[0m in \u001B[0;36madd_to_counter\u001B[0;34m()\u001B[0m\n\u001B[1;32m      2\u001B[0m \u001B[0;34m\u001B[0m\u001B[0m\n\u001B[1;32m      3\u001B[0m \u001B[0;32mdef\u001B[0m \u001B[0madd_to_counter\u001B[0m\u001B[0;34m(\u001B[0m\u001B[0;34m)\u001B[0m\u001B[0;34m:\u001B[0m\u001B[0;34m\u001B[0m\u001B[0;34m\u001B[0m\u001B[0m\n\u001B[0;32m----> 4\u001B[0;31m     \u001B[0mcounter\u001B[0m \u001B[0;34m+=\u001B[0m \u001B[0;36m12\u001B[0m \u001B[0;31m#add 12 to counter\u001B[0m\u001B[0;34m\u001B[0m\u001B[0;34m\u001B[0m\u001B[0m\n\u001B[0m\u001B[1;32m      5\u001B[0m \u001B[0;34m\u001B[0m\u001B[0m\n\u001B[1;32m      6\u001B[0m \u001B[0madd_to_counter\u001B[0m\u001B[0;34m(\u001B[0m\u001B[0;34m)\u001B[0m\u001B[0;34m\u001B[0m\u001B[0;34m\u001B[0m\u001B[0m\n",
      "\u001B[0;31mUnboundLocalError\u001B[0m: local variable 'counter' referenced before assignment"
     ]
    }
   ],
   "source": [
    "counter = 0\n",
    "\n",
    "def add_to_counter():\n",
    "    counter += 12 #add 12 to counter\n",
    "\n",
    "add_to_counter()"
   ]
  },
  {
   "cell_type": "code",
   "execution_count": null,
   "metadata": {
    "colab": {
     "base_uri": "https://localhost:8080/"
    },
    "id": "rmuzqwtMlOPX",
    "outputId": "50254a58-9a4d-480e-cf76-f763f196e775"
   },
   "outputs": [
    {
     "output_type": "stream",
     "name": "stdout",
     "text": [
      "12\n"
     ]
    }
   ],
   "source": [
    "counter = 0\n",
    "\n",
    "def add_to_counter(count):\n",
    "    return count + 12  # add 12 to counter\n",
    "\n",
    "counter = add_to_counter(counter)\n",
    "\n",
    "print(counter)"
   ]
  },
  {
   "cell_type": "markdown",
   "metadata": {
    "id": "e7r7sUm4lOPX"
   },
   "source": [
    "## Ćwiczenie 1"
   ]
  },
  {
   "cell_type": "markdown",
   "metadata": {
    "id": "dKgAtG8HlOPX"
   },
   "source": [
    "Napisz funkcję o nazwie check_range, która sprawdza, czy liczba znajduje się w podanym zakresie (zawiera zarówno niski *__i__* wysoki). <br>\n",
    "Jeśli tak, zwróć „x jest między y a z”. <br>\n",
    "Jeśli tak nie jest, zwróć „x NIE jest między y a z”. <br>\n",
    "Gdzie:\n",
    "- x to liczba\n",
    "- y jest dolną granicą\n",
    "- z to górna granica"
   ]
  },
  {
   "cell_type": "code",
   "execution_count": null,
   "metadata": {
    "id": "mKC2L3TIlOPX",
    "is_executing": true
   },
   "outputs": [],
   "source": [
    "# CODE HERE\n",
    "def check_range(x,y,z):\n",
    "  if y <= x <= z:\n",
    "    return f'{x} mieści się w przedziale {y} a {z}'\n",
    "  else:\n",
    "    return f'{x} nie mieści się w przedziale {y} a {z}'"
   ]
  },
  {
   "cell_type": "code",
   "execution_count": null,
   "metadata": {
    "colab": {
     "base_uri": "https://localhost:8080/",
     "height": 36
    },
    "id": "AmCYdVsSlOPX",
    "outputId": "141c0158-081a-4d69-b466-f5c8242d487c"
   },
   "outputs": [
    {
     "output_type": "execute_result",
     "data": {
      "text/plain": [
       "'34 mieści się w przedziale 9 a 228'"
      ],
      "application/vnd.google.colaboratory.intrinsic+json": {
       "type": "string"
      }
     },
     "metadata": {},
     "execution_count": 21
    }
   ],
   "source": [
    "check_range(34, 9, 228)"
   ]
  },
  {
   "cell_type": "code",
   "execution_count": null,
   "metadata": {
    "colab": {
     "base_uri": "https://localhost:8080/",
     "height": 36
    },
    "id": "44LORnThlOPY",
    "outputId": "3364377e-0292-45fe-b106-263c63159b4e"
   },
   "outputs": [
    {
     "output_type": "execute_result",
     "data": {
      "text/plain": [
       "'7 nie mieści sięw 2a 5'"
      ],
      "application/vnd.google.colaboratory.intrinsic+json": {
       "type": "string"
      }
     },
     "metadata": {},
     "execution_count": 4
    }
   ],
   "source": [
    "check_range(7, 2, 5)"
   ]
  },
  {
   "cell_type": "markdown",
   "metadata": {
    "id": "GeW8Eg9RlOPY"
   },
   "source": [
    "Napisz funkcję o nazwie bool_range, która robi to samo, ale zwraca tylko wartość logiczną."
   ]
  },
  {
   "cell_type": "code",
   "execution_count": null,
   "metadata": {
    "id": "-TkkFE2ulOPY"
   },
   "outputs": [],
   "source": [
    "# CODE HERE\n",
    "\n",
    "def bool_range(x,y,z):\n",
    "   return y <= x <= z\n"
   ]
  },
  {
   "cell_type": "code",
   "execution_count": null,
   "metadata": {
    "colab": {
     "base_uri": "https://localhost:8080/"
    },
    "id": "M8NI9EuHlOPY",
    "outputId": "9cb439fb-46fd-4aa9-f717-6794dec34587"
   },
   "outputs": [
    {
     "output_type": "execute_result",
     "data": {
      "text/plain": [
       "True"
      ]
     },
     "metadata": {},
     "execution_count": 10
    }
   ],
   "source": [
    "bool_range(7, 5, 20)"
   ]
  },
  {
   "cell_type": "code",
   "execution_count": null,
   "metadata": {
    "colab": {
     "base_uri": "https://localhost:8080/"
    },
    "id": "9vwd6CHDlOPY",
    "outputId": "fdfdc8de-420a-4fc1-ef65-7b413738a28a"
   },
   "outputs": [
    {
     "output_type": "execute_result",
     "data": {
      "text/plain": [
       "False"
      ]
     },
     "metadata": {},
     "execution_count": 11
    }
   ],
   "source": [
    "bool_range(67, 22, 25)"
   ]
  },
  {
   "cell_type": "markdown",
   "metadata": {
    "id": "NfVVMk2OlOPY"
   },
   "source": [
    "## Ćwiczenie 2"
   ]
  },
  {
   "cell_type": "markdown",
   "metadata": {
    "id": "rhGW9D2plOPY"
   },
   "source": [
    "Napisz funkcję o nazwie unique_list, która pobiera listę i zwraca listę zawierającą tylko unikalne elementy danych wejściowych."
   ]
  },
  {
   "cell_type": "code",
   "execution_count": null,
   "metadata": {
    "id": "Mm2bbnYvlOPZ"
   },
   "outputs": [],
   "source": [
    "# CODE HERE\n",
    "def unique_list(input_list):\n",
    "    return list(set(input_list))"
   ]
  },
  {
   "cell_type": "code",
   "execution_count": null,
   "metadata": {
    "colab": {
     "base_uri": "https://localhost:8080/"
    },
    "id": "S4p-4co4lOPZ",
    "outputId": "a7522e06-e6d1-4145-bfe2-2b881e371364"
   },
   "outputs": [
    {
     "output_type": "execute_result",
     "data": {
      "text/plain": [
       "[1, 2, 3, 4, 5, 6, 12, 63]"
      ]
     },
     "metadata": {},
     "execution_count": 14
    }
   ],
   "source": [
    "my_list = [1,3,5,6,4,3,2,3,3,4,3,4,5,6,6,4,3,2,12,3,5,63,4,5,3,3,2]\n",
    "\n",
    "unique_list(my_list)"
   ]
  },
  {
   "cell_type": "markdown",
   "metadata": {
    "id": "goOvUpEPlOPZ"
   },
   "source": [
    "Znajdź inny sposób wykonania tej samej operacji bez definiowania funkcji."
   ]
  },
  {
   "cell_type": "code",
   "execution_count": null,
   "metadata": {
    "colab": {
     "base_uri": "https://localhost:8080/"
    },
    "id": "BAtZalhplOPZ",
    "outputId": "bc54f38d-3e28-4866-eb10-fd3f7497da88"
   },
   "outputs": [
    {
     "output_type": "stream",
     "name": "stdout",
     "text": [
      "[1, 2, 3, 4, 5, 6, 12, 63]\n"
     ]
    }
   ],
   "source": [
    "# CODE HERE\n",
    "unique_list = list(set(my_list))\n",
    "print(unique_list)"
   ]
  },
  {
   "cell_type": "markdown",
   "metadata": {
    "id": "A8bOAQeIlOPZ"
   },
   "source": [
    "## Ćwiczenie 3"
   ]
  },
  {
   "cell_type": "markdown",
   "metadata": {
    "id": "mqkNeoSylOPZ"
   },
   "source": [
    "Napisz funkcję o nazwie objętość_kuli, która przyjmuje promień kuli i zwraca jej objętość zaokrągloną do 2 dp. (Google wzór na objętość kuli, użyj pi = 3,14)"
   ]
  },
  {
   "cell_type": "code",
   "execution_count": null,
   "metadata": {
    "id": "jvn-_7bzlOPb"
   },
   "outputs": [],
   "source": [
    "# CODE HERE\n",
    "def volume_of_sphere(r):\n",
    "    pi = 3.14\n",
    "    volume = (4/3) * pi * (r**3)\n",
    "    return round(volume, 2)\n"
   ]
  },
  {
   "cell_type": "code",
   "execution_count": null,
   "metadata": {
    "colab": {
     "base_uri": "https://localhost:8080/"
    },
    "id": "UxA506_RlOPb",
    "outputId": "0898f57b-f83b-4230-9999-39e2711a7b29"
   },
   "outputs": [
    {
     "output_type": "execute_result",
     "data": {
      "text/plain": [
       "33.49"
      ]
     },
     "metadata": {},
     "execution_count": 19
    }
   ],
   "source": [
    "volume_of_sphere(2)"
   ]
  },
  {
   "cell_type": "markdown",
   "metadata": {
    "id": "qKTay_HNlOPc"
   },
   "source": [
    "## Rekurencja"
   ]
  },
  {
   "cell_type": "markdown",
   "metadata": {
    "id": "MPduF-HklOPc"
   },
   "source": [
    "- Funkcja rekurencyjna to funkcja, która wywołuje siebie w ramach swojej definicji.\n",
    "- Na początku może to być trudne do zrozumienia, ale pomyśl o tym jako o przełamaniu dużego problemu w wielokrotne robienie małego problemu.\n",
    "- Oznacza to, że złożony problem można uprościć, powtarzając przy każdym powtórzeniu prostszą i prostszą formę tego samego problemu.\n",
    "- Musimy jednak podać „najprostszą formę” funkcji, w której funkcja się zatrzymuje, w przeciwnym razie będzie się powtarzać w nieskończoność i wygeneruje błąd.\n",
    "- Nazywamy tę „najprostszą formę” przypadkiem podstawowym.\n",
    "- Najlepiej ilustruje to przykład:"
   ]
  },
  {
   "cell_type": "code",
   "execution_count": null,
   "metadata": {
    "colab": {
     "base_uri": "https://localhost:8080/"
    },
    "id": "D_OQhOjNlOPc",
    "outputId": "3641f0a8-18e9-4554-bf1a-03978633691a"
   },
   "outputs": [
    {
     "output_type": "stream",
     "name": "stdout",
     "text": [
      "5\n",
      "4\n",
      "3\n",
      "2\n",
      "1\n",
      "0\n"
     ]
    }
   ],
   "source": [
    "# Funkcja, która przyjmuje jako wejście liczbę początkową do odliczania\n",
    "def countdown(n):\n",
    "\n",
    "    # przypadek podstawowy: w tym miejscu funkcja ostatecznie się zatrzyma\n",
    "    if n == 0:\n",
    "        print(0)\n",
    "\n",
    "    # tutaj redukujemy problem do prostszej wersji\n",
    "    else:\n",
    "\n",
    "        #wypisujemy numer odliczania\n",
    "        print(n)\n",
    "\n",
    "        # powtarzamy funkcję z następną najmniejszą liczbą\n",
    "        countdown(n-1)\n",
    "\n",
    "\n",
    "countdown(5)"
   ]
  },
  {
   "cell_type": "code",
   "execution_count": null,
   "metadata": {
    "id": "oMyFeCeplOPc"
   },
   "outputs": [],
   "source": []
  },
  {
   "cell_type": "markdown",
   "metadata": {
    "id": "hO18srR5lOPd"
   },
   "source": [
    "## Ćwiczenie 4"
   ]
  },
  {
   "cell_type": "markdown",
   "metadata": {
    "id": "wO1XGEB8lOPd"
   },
   "source": [
    "Zdefiniuj funkcję rekurencyjną o nazwie num_fact, która zwraca silnię podanej liczby."
   ]
  },
  {
   "cell_type": "code",
   "execution_count": null,
   "metadata": {
    "id": "fM3x_ju1lOPd"
   },
   "outputs": [],
   "source": [
    "# CODE HERE\n",
    "def num_fact(x):\n",
    "    if x == 0:\n",
    "        return 1\n",
    "    else:\n",
    "        return x * num_fact(x - 1)"
   ]
  },
  {
   "cell_type": "code",
   "execution_count": null,
   "metadata": {
    "colab": {
     "base_uri": "https://localhost:8080/"
    },
    "id": "OCG-cqSylOPd",
    "outputId": "efe10944-3123-4844-996c-1cc43cec9856"
   },
   "outputs": [
    {
     "output_type": "execute_result",
     "data": {
      "text/plain": [
       "3628800"
      ]
     },
     "metadata": {},
     "execution_count": 28
    }
   ],
   "source": [
    "num_fact(10)"
   ]
  },
  {
   "cell_type": "code",
   "execution_count": null,
   "metadata": {
    "id": "tJmBTm9_lOPd"
   },
   "outputs": [],
   "source": []
  },
  {
   "cell_type": "markdown",
   "metadata": {
    "id": "9XoBD7wZlOPd"
   },
   "source": [
    "## Dalsza lektura\n",
    "- Python Function Definitions: https://docs.python.org/3/reference/compound_stmts.html#function-definitions\n",
    "- Python Docstring Conventions: https://www.python.org/dev/peps/pep-0257/"
   ]
  },
  {
   "cell_type": "code",
   "execution_count": null,
   "metadata": {
    "id": "Sp_PDlijlOPe"
   },
   "outputs": [],
   "source": []
  }
 ],
 "metadata": {
  "kernelspec": {
   "display_name": "Python 3",
   "language": "python",
   "name": "python3"
  },
  "language_info": {
   "codemirror_mode": {
    "name": "ipython",
    "version": 3
   },
   "file_extension": ".py",
   "mimetype": "text/x-python",
   "name": "python",
   "nbconvert_exporter": "python",
   "pygments_lexer": "ipython3",
   "version": "3.7.6"
  },
  "colab": {
   "provenance": []
  }
 },
 "nbformat": 4,
 "nbformat_minor": 0
}
